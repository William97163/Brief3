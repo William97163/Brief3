{
 "cells": [
  {
   "cell_type": "markdown",
   "id": "5077661d-83fc-4de2-8e28-1d32e34bf06a",
   "metadata": {},
   "source": [
    "### Challenge sur les dictionnaires"
   ]
  },
  {
   "cell_type": "code",
   "execution_count": null,
   "id": "1dad2291-3baa-4c8f-86c5-7578fa88392d",
   "metadata": {},
   "outputs": [],
   "source": [
    "import pandas as pd"
   ]
  },
  {
   "cell_type": "code",
   "execution_count": 3,
   "id": "5d7c3897-bf4a-4dbd-8cb7-f71e4be3f752",
   "metadata": {},
   "outputs": [],
   "source": [
    "import statistics"
   ]
  },
  {
   "cell_type": "code",
   "execution_count": 2,
   "id": "83918890-9f86-4c22-8135-bb470a13af28",
   "metadata": {},
   "outputs": [],
   "source": [
    "ventes_commerciaux = {\"Marie\":15,\"Samuel\":17,\"Gaston\":12,\"Fred\":10,\"Mae\":5,\"Julie\":15,\"Zoe\":7,\"Claire\":20,\"Chloe\":8,\"Julien\":14,\"Gael\":9,\"Samia\":15,\"Omar\":11, \"Gabriel\":16, \"Manon\": 2\n",
    "}"
   ]
  },
  {
   "cell_type": "code",
   "execution_count": null,
   "id": "42df31a3-da03-450d-953b-42aac0c8186a",
   "metadata": {},
   "outputs": [],
   "source": [
    "# Moyenne des valeurs comprises dans le dictionnaire"
   ]
  },
  {
   "cell_type": "code",
   "execution_count": 6,
   "id": "9ae25ae3-544a-405f-be9b-2bc928bf3de1",
   "metadata": {},
   "outputs": [
    {
     "data": {
      "text/plain": [
       "11.733333333333333"
      ]
     },
     "execution_count": 6,
     "metadata": {},
     "output_type": "execute_result"
    }
   ],
   "source": [
    "statistics.mean(ventes_commerciaux.values())"
   ]
  },
  {
   "cell_type": "code",
   "execution_count": null,
   "id": "67b0e752-68db-4b67-882c-f271ccf1c18f",
   "metadata": {},
   "outputs": [],
   "source": [
    "# Nombre de vendeurs dans le dictionnaire"
   ]
  },
  {
   "cell_type": "code",
   "execution_count": 7,
   "id": "adf8a414-a8ec-4896-8565-9dc598ed8103",
   "metadata": {},
   "outputs": [
    {
     "data": {
      "text/plain": [
       "15"
      ]
     },
     "execution_count": 7,
     "metadata": {},
     "output_type": "execute_result"
    }
   ],
   "source": [
    "len(ventes_commerciaux.keys())"
   ]
  },
  {
   "cell_type": "code",
   "execution_count": 35,
   "id": "bfce3e71-4f95-4adf-9a65-f544f6cc3056",
   "metadata": {},
   "outputs": [
    {
     "name": "stdout",
     "output_type": "stream",
     "text": [
      "Marie\n",
      "Samuel\n",
      "Gaston\n",
      "Julie\n",
      "Claire\n",
      "Julien\n",
      "Samia\n",
      "Gabriel\n"
     ]
    }
   ],
   "source": [
    "for key, values in ventes_commerciaux.items():\n",
    "    if values > 11.733333333333333:\n",
    "        print(key)"
   ]
  },
  {
   "cell_type": "code",
   "execution_count": null,
   "id": "ced5f10a-3100-4d32-89bd-d7fc1b568735",
   "metadata": {},
   "outputs": [],
   "source": [
    "# nb de commmerciaux ayant un nb de vente supérieur à la moyenne : 8"
   ]
  },
  {
   "cell_type": "code",
   "execution_count": 24,
   "id": "8d5f3895-c175-4a7a-bf07-895dde2e75df",
   "metadata": {},
   "outputs": [
    {
     "name": "stdout",
     "output_type": "stream",
     "text": [
      "Claire\n"
     ]
    }
   ],
   "source": [
    "for key, values in ventes_commerciaux.items():\n",
    "    if values == max(ventes_commerciaux.values()):\n",
    "        print(key)"
   ]
  },
  {
   "cell_type": "code",
   "execution_count": null,
   "id": "706a0b26-880c-4587-be4e-aa6c2f53f068",
   "metadata": {},
   "outputs": [],
   "source": [
    "# vendeur ayant le plus vendu"
   ]
  },
  {
   "cell_type": "code",
   "execution_count": 56,
   "id": "5273cb61-b62c-401b-ae22-144dfa8bf459",
   "metadata": {},
   "outputs": [
    {
     "name": "stdout",
     "output_type": "stream",
     "text": [
      "Mae\n",
      "Zoe\n"
     ]
    }
   ],
   "source": [
    "for key, values in ventes_commerciaux.items():\n",
    "    if len(key) < 4 :\n",
    "        print(key)"
   ]
  },
  {
   "cell_type": "code",
   "execution_count": 57,
   "id": "8eeff59f-2816-41db-ace8-0ef515e07b01",
   "metadata": {},
   "outputs": [],
   "source": [
    "# vendeurs ayant un nom contenant moins de 4 lettres : 2"
   ]
  },
  {
   "cell_type": "code",
   "execution_count": 60,
   "id": "583494b7-3c39-471a-a585-98b46c070df2",
   "metadata": {},
   "outputs": [
    {
     "name": "stdout",
     "output_type": "stream",
     "text": [
      "Gaston\n",
      "Fred\n",
      "Claire\n",
      "Chloe\n",
      "Julien\n",
      "Gabriel\n",
      "Manon\n"
     ]
    }
   ],
   "source": [
    "for key, values in ventes_commerciaux.items():\n",
    "    if values % 2 == 0:\n",
    "        print(key)"
   ]
  },
  {
   "cell_type": "code",
   "execution_count": 61,
   "id": "b43ec99a-3d18-4225-a8a6-09fc3a63c8f0",
   "metadata": {},
   "outputs": [],
   "source": [
    "# prénoms des vendeurs ayant un nombre pair de ventes"
   ]
  }
 ],
 "metadata": {
  "kernelspec": {
   "display_name": "Python 3 (ipykernel)",
   "language": "python",
   "name": "python3"
  },
  "language_info": {
   "codemirror_mode": {
    "name": "ipython",
    "version": 3
   },
   "file_extension": ".py",
   "mimetype": "text/x-python",
   "name": "python",
   "nbconvert_exporter": "python",
   "pygments_lexer": "ipython3",
   "version": "3.9.12"
  }
 },
 "nbformat": 4,
 "nbformat_minor": 5
}
