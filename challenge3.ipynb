{
 "cells": [
  {
   "cell_type": "markdown",
   "id": "2242db69-780d-4916-80c0-14fc128f9b18",
   "metadata": {},
   "source": [
    "### Challenge sur les fonctions "
   ]
  },
  {
   "cell_type": "code",
   "execution_count": 2,
   "id": "20b98513-21a9-463f-8a34-dc084d974b2a",
   "metadata": {},
   "outputs": [],
   "source": [
    "def moyenne(l1):\n",
    "    total = sum(l1)\n",
    "    moy = total / len(l1)\n",
    "    return moy\n",
    "\n",
    "# retourne la moyenne de la liste en parametre"
   ]
  },
  {
   "cell_type": "code",
   "execution_count": 3,
   "id": "0663f229-790b-4a87-8c23-8b1c96165c0c",
   "metadata": {},
   "outputs": [],
   "source": [
    "def médiane(l1): \n",
    "    if len(l1) % 2 == 1:\n",
    "        med = l1[len(l1)//2]\n",
    "    elif len(l1) % 2 == 0:\n",
    "        med = (l1[len(l1)//2] - 1) + (l1[len(l1)//2]) / 2\n",
    "    return med\n",
    "# retourne la médiane de la liste en paramètre "
   ]
  },
  {
   "cell_type": "code",
   "execution_count": 4,
   "id": "83d1e097-17a7-4440-b197-67e88b0c2253",
   "metadata": {},
   "outputs": [],
   "source": [
    "def variance(l1):\n",
    "    var = 0\n",
    "    for i in range (len(l1)):\n",
    "        var += (l1[i] - moyenne(l1))**2\n",
    "    return var\n",
    "# retourne la variance de la liste en paramètre"
   ]
  },
  {
   "cell_type": "code",
   "execution_count": 6,
   "id": "b0817391-e2ff-4f97-bf79-335c04fc68d9",
   "metadata": {},
   "outputs": [],
   "source": [
    "def écartype(l1):\n",
    "    éca = variance(l1)**0.5\n",
    "    return éca\n",
    "# retourne l'écartype de la liste en paramètre"
   ]
  }
 ],
 "metadata": {
  "kernelspec": {
   "display_name": "Python 3 (ipykernel)",
   "language": "python",
   "name": "python3"
  },
  "language_info": {
   "codemirror_mode": {
    "name": "ipython",
    "version": 3
   },
   "file_extension": ".py",
   "mimetype": "text/x-python",
   "name": "python",
   "nbconvert_exporter": "python",
   "pygments_lexer": "ipython3",
   "version": "3.9.12"
  }
 },
 "nbformat": 4,
 "nbformat_minor": 5
}
