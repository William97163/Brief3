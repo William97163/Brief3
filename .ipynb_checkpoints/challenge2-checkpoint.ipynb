{
 "cells": [
  {
   "cell_type": "code",
   "execution_count": null,
   "id": "4b714c4e-0cfc-4be2-bc0e-37bc81136568",
   "metadata": {},
   "outputs": [],
   "source": [
    "# CRÉATION DE LA LISTE "
   ]
  },
  {
   "cell_type": "code",
   "execution_count": null,
   "id": "e173f48b-3980-4bf1-a7d7-f67b332f900b",
   "metadata": {},
   "outputs": [],
   "source": [
    "prix_de_58_maisons = list(range(125000,700000,10087))"
   ]
  },
  {
   "cell_type": "code",
   "execution_count": null,
   "id": "9d131490-fb00-43cd-82ec-9b30049c7c4b",
   "metadata": {},
   "outputs": [],
   "source": [
    "# CONDITIONNEMENT "
   ]
  },
  {
   "cell_type": "code",
   "execution_count": 89,
   "id": "cf3910f5-166e-47a8-89e7-512b0c716abc",
   "metadata": {},
   "outputs": [
    {
     "name": "stdout",
     "output_type": "stream",
     "text": [
      "il y a 40 prix supérieur ou égal à 300000  \n",
      "il y a 15 prix supérieur à 250000 et inférieur à 400000  \n",
      "il y a 48 prix inférieur à 600000 \n",
      "il y a 8 prix inférieur à 150000 ou supérieur à 650000\n"
     ]
    }
   ],
   "source": [
    "sup = 0\n",
    "bet = 0\n",
    "inf = 0\n",
    "bet2 = 0\n",
    "for prix in prix_de_58_maisons:\n",
    "    if prix >= 300000 :\n",
    "        sup +=1\n",
    "    if prix > 249999 and prix < 400000 :\n",
    "        bet +=1\n",
    "    if prix < 600000 :\n",
    "        inf +=1\n",
    "    if prix < 150000 or prix > 650000 :\n",
    "        bet2+=1\n",
    "        \n",
    "print(f\"il y a {sup} prix supérieur ou égal à 300000  \\nil y a {bet} prix supérieur à 250000 et inférieur à 400000  \\nil y a {inf} prix inférieur à 600000 \\nil y a {bet2} prix inférieur à 150000 ou supérieur à 650000\") "
   ]
  },
  {
   "cell_type": "code",
   "execution_count": null,
   "id": "c6bf77ac-b6f7-4436-8af8-d673d799edce",
   "metadata": {},
   "outputs": [],
   "source": []
  },
  {
   "cell_type": "code",
   "execution_count": null,
   "id": "c6b00fe4-5960-411e-a5f2-5b5e6320f8d5",
   "metadata": {},
   "outputs": [],
   "source": []
  }
 ],
 "metadata": {
  "kernelspec": {
   "display_name": "Python 3 (ipykernel)",
   "language": "python",
   "name": "python3"
  },
  "language_info": {
   "codemirror_mode": {
    "name": "ipython",
    "version": 3
   },
   "file_extension": ".py",
   "mimetype": "text/x-python",
   "name": "python",
   "nbconvert_exporter": "python",
   "pygments_lexer": "ipython3",
   "version": "3.9.12"
  }
 },
 "nbformat": 4,
 "nbformat_minor": 5
}
