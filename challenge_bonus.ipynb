{
 "cells": [
  {
   "cell_type": "markdown",
   "id": "86330381-98f8-4f34-acae-6cdad472786a",
   "metadata": {},
   "source": [
    "### Challenge bonus"
   ]
  },
  {
   "cell_type": "code",
   "execution_count": null,
   "id": "f6e1ee4e-ff97-40ef-a054-888fccb58c22",
   "metadata": {},
   "outputs": [],
   "source": [
    "mots = ['eddard', 'catelyn', 'robb', 'sansa', 'arya', 'brandon',\n",
    "'rickon', 'theon', 'rorbert', 'cersei', 'tywin', 'jaime',\n",
    "'tyrion', 'shae', 'bronn', 'lancel', 'joffrey', 'sandor',\n",
    "'varys', 'renly', 'a' ]"
   ]
  },
  {
   "cell_type": "code",
   "execution_count": 39,
   "id": "e436daea-f20e-4d74-b0a1-7b6c3d400c9e",
   "metadata": {},
   "outputs": [],
   "source": [
    "def mots_lettre_position(liste, lettre, position):\n",
    "    l = []\n",
    "    for mot in liste:\n",
    "        if len(mot) > 1 and mot[position] == lettre:\n",
    "            l.append(mot)\n",
    "    return l\n",
    "# fonction retournant les mot contenant un y à la deuxième position de la liste de mots en paramètre"
   ]
  },
  {
   "cell_type": "code",
   "execution_count": 40,
   "id": "bed92272-2123-41ca-ba57-916047b7533c",
   "metadata": {},
   "outputs": [
    {
     "data": {
      "text/plain": [
       "['tywin', 'tyrion']"
      ]
     },
     "execution_count": 40,
     "metadata": {},
     "output_type": "execute_result"
    }
   ],
   "source": [
    "mots_lettre_position(mots,\"y\",1)"
   ]
  }
 ],
 "metadata": {
  "kernelspec": {
   "display_name": "Python 3 (ipykernel)",
   "language": "python",
   "name": "python3"
  },
  "language_info": {
   "codemirror_mode": {
    "name": "ipython",
    "version": 3
   },
   "file_extension": ".py",
   "mimetype": "text/x-python",
   "name": "python",
   "nbconvert_exporter": "python",
   "pygments_lexer": "ipython3",
   "version": "3.9.12"
  }
 },
 "nbformat": 4,
 "nbformat_minor": 5
}
